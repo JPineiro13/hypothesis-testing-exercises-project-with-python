{
  "nbformat": 4,
  "nbformat_minor": 0,
  "metadata": {
    "colab": {
      "provenance": [],
      "authorship_tag": "ABX9TyM2+liA+UManTERPvcpeMDj",
      "include_colab_link": true
    },
    "kernelspec": {
      "name": "python3",
      "display_name": "Python 3"
    },
    "language_info": {
      "name": "python"
    }
  },
  "cells": [
    {
      "cell_type": "markdown",
      "metadata": {
        "id": "view-in-github",
        "colab_type": "text"
      },
      "source": [
        "<a href=\"https://colab.research.google.com/github/JPineiro13/hypothesis-testing-exercises-project-with-python/blob/main/4geeks_testeo_hipotesis.ipynb\" target=\"_parent\"><img src=\"https://colab.research.google.com/assets/colab-badge.svg\" alt=\"Open In Colab\"/></a>"
      ]
    },
    {
      "cell_type": "code",
      "execution_count": null,
      "metadata": {
        "colab": {
          "base_uri": "https://localhost:8080/"
        },
        "id": "q3JX_Ib5OH8z",
        "outputId": "c89e0725-ebdd-4a80-cfd6-86fd81e215e8"
      },
      "outputs": [
        {
          "output_type": "stream",
          "name": "stdout",
          "text": [
            "El valor tras aplicar el test t de student es -3.5383407969933938\n",
            "El valor de P es 0.004083270191713912\n",
            "En este caso, podemos rechazar la hipótesis nula, y por tanto concluir que sí hay una diferencia signifcativa entre la dieta a y la b\n"
          ]
        }
      ],
      "source": [
        "#Ej 1\n",
        "\n",
        "#En este caso, la hipótesis nula sería que no hay una diferencia significativa estadísticamente\n",
        "# entre seguir la dieta A o la dieta B\n",
        "\n",
        "import scipy.stats as stats\n",
        "\n",
        "dieta_a = [2.0, 2.5, 3.0, 2.8, 2.3, 2.7, 2.5]\n",
        "dieta_b = [3.0, 3.2, 3.1, 2.9, 2.8, 3.0, 3.2]\n",
        "\n",
        "t_student, p = stats.ttest_ind(dieta_a, dieta_b)\n",
        "\n",
        "\n",
        "print(f\"El valor tras aplicar el test t de student es {t_student}\")\n",
        "print(f\"El valor de P es {p}\")\n",
        "print(\"En este caso, podemos rechazar la hipótesis nula, y por tanto concluir que sí hay una diferencia signifcativa entre la dieta a y la b\")"
      ]
    },
    {
      "cell_type": "code",
      "source": [
        "#Ej 2\n",
        "#Lo que hace el test Anova es medir la varianza entre las medias de los grupos y\n",
        "# compararla con la varianza dentro de los grupos. Es decir, medir si los grupos\n",
        "# son más distintos entre sí de lo que lo son las personas (elementos) dentro de cada grupo\n",
        "\n",
        "import scipy.stats as stats\n",
        "\n",
        "fertilizante_a = [20, 21, 20, 19, 20]\n",
        "fertilizante_b = [22, 21, 23, 22, 21]\n",
        "fertilizante_c = [24, 23, 22, 23, 24]\n",
        "\n",
        "anova, p = stats.f_oneway(fertilizante_a, fertilizante_b, fertilizante_c)\n",
        "\n",
        "\n",
        "print(f\"El valor tras aplicar el test anova es: {anova}\")\n",
        "print(f\"El valor de P es {p}\")\n",
        "print(\"Dado que el valor de F (test anova) es alto y que el de p es muy bajo, podemos concluir que hay una diferencia significativa entre los resultados de cada fertilizante. Es decir, que hay algunos claramente mejores que otros\")"
      ],
      "metadata": {
        "colab": {
          "base_uri": "https://localhost:8080/"
        },
        "id": "bVSmlVaAQVfh",
        "outputId": "0184b526-8303-4cd6-9f6c-52a374958beb"
      },
      "execution_count": null,
      "outputs": [
        {
          "output_type": "stream",
          "name": "stdout",
          "text": [
            "El valor tras aplicar el test anova es: 20.315789473684188\n",
            "El valor de P es 0.00014047824793190475\n",
            "Dado que el valor de F (test anova) es alto y que el de p es muy bajo, podemos concluir que hay una diferencia significativa entre los resultados de cada fertilizante. Es decir, que hay algunos claramente mejores que otros\n"
          ]
        }
      ]
    },
    {
      "cell_type": "code",
      "source": [
        "#Ej 3\n",
        "import statsmodels.api as sm\n",
        "from statsmodels.stats.multicomp import pairwise_tukeyhsd\n",
        "\n",
        "tot_fertilizantes = fertilizante_a + fertilizante_b + fertilizante_c\n",
        "fertilizantes = ['Fertilizante A'] * len(fertilizante_a) + ['Fertilizante B'] * len(fertilizante_b) + ['Fertilizante C'] * len(fertilizante_c)\n",
        "\n",
        "tukey = pairwise_tukeyhsd(tot_fertilizantes, fertilizantes, 0.05)\n",
        "\n",
        "print(tukey)\n",
        "print(\"Si comparamos los fertilizantes en la tabla, podemos ver que el fertilizante C tiene mejores resultados, pero no ligeramente, sino con bastante margen. El fertilizante C es es más efectivo, y además esa diferencia es significativa, por lo que podemos descartar que sea producto del efecto del azar en las muestras\")"
      ],
      "metadata": {
        "colab": {
          "base_uri": "https://localhost:8080/"
        },
        "id": "Z3-5IJ7MSgGy",
        "outputId": "fbbc5b9b-d472-4a79-ecb3-22ae4195d4a2"
      },
      "execution_count": null,
      "outputs": [
        {
          "output_type": "stream",
          "name": "stdout",
          "text": [
            "       Multiple Comparison of Means - Tukey HSD, FWER=0.05        \n",
            "==================================================================\n",
            "    group1         group2     meandiff p-adj  lower  upper  reject\n",
            "------------------------------------------------------------------\n",
            "Fertilizante A Fertilizante B      1.8 0.0099 0.4572 3.1428   True\n",
            "Fertilizante A Fertilizante C      3.2 0.0001 1.8572 4.5428   True\n",
            "Fertilizante B Fertilizante C      1.4 0.0409 0.0572 2.7428   True\n",
            "------------------------------------------------------------------\n",
            "Si comparamos los fertilizantes en la tabla, podemos ver que el fertilizante C tiene mejores resultados, pero no ligeramente, sino con bastante margen. El fertilizante C es es más efectivo, y además esa diferencia es significativa, por lo que podemos descartar que sea producto del efecto del azar en las muestras\n"
          ]
        }
      ]
    }
  ]
}