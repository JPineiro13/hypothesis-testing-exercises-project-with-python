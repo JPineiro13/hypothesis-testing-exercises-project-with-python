{
  "nbformat": 4,
  "nbformat_minor": 0,
  "metadata": {
    "colab": {
      "provenance": [],
      "authorship_tag": "ABX9TyNpjB3IwIsEGTsuxmI3j8t4",
      "include_colab_link": true
    },
    "kernelspec": {
      "name": "python3",
      "display_name": "Python 3"
    },
    "language_info": {
      "name": "python"
    }
  },
  "cells": [
    {
      "cell_type": "markdown",
      "metadata": {
        "id": "view-in-github",
        "colab_type": "text"
      },
      "source": [
        "<a href=\"https://colab.research.google.com/github/JPineiro13/hypothesis-testing-exercises-project-with-python/blob/main/4geeks_testeo_hipotesis.ipynb\" target=\"_parent\"><img src=\"https://colab.research.google.com/assets/colab-badge.svg\" alt=\"Open In Colab\"/></a>"
      ]
    },
    {
      "cell_type": "code",
      "execution_count": null,
      "metadata": {
        "colab": {
          "base_uri": "https://localhost:8080/"
        },
        "id": "q3JX_Ib5OH8z",
        "outputId": "35b58ba5-c884-4104-edd7-067d37fa2c75"
      },
      "outputs": [
        {
          "output_type": "stream",
          "name": "stdout",
          "text": [
            "El test de student nos da un valor de: -3.5383407969933938\n",
            "P es 0.004083270191713912\n",
            "En este caso podemos rechazar la hipótesis nula y por tanto concluir que sí hay una diferencia signifcativa entre la dieta a y la b\n",
            "Hay que interpretar P = 0,004. Esta métrica lo que nos viene a decir es que el escenario en que no etuviéramos en lo cierto rechazando la hipótesis nula es del 0,004.\n",
            "Es decir, que es extraordinariamente raro que en realidad las dietas sean equivalentes y las diferencias en los datos se hayan debido a variaciones aleatorias\n"
          ]
        }
      ],
      "source": [
        "#Ej 1\n",
        "\n",
        "#En este caso, la hipótesis nula sería que no hay una diferencia significativa estadísticamente\n",
        "# entre seguir la dieta A o la dieta B.\n",
        "\n",
        "import scipy.stats as stats\n",
        "\n",
        "dieta_a = [2.0, 2.5, 3.0, 2.8, 2.3, 2.7, 2.5]\n",
        "dieta_b = [3.0, 3.2, 3.1, 2.9, 2.8, 3.0, 3.2]\n",
        "\n",
        "resultado_prueba_t = stats.ttest_ind(dieta_a, dieta_b)\n",
        "\n",
        "t_student = resultado_prueba_t.statistic\n",
        "p = resultado_prueba_t.pvalue\n",
        "\n",
        "\n",
        "\n",
        "print(f\"El test de student nos da un valor de: {t_student}\")\n",
        "print(f\"P es {p}\")\n",
        "print(\"En este caso podemos rechazar la hipótesis nula y por tanto concluir que sí hay una diferencia signifcativa entre la dieta a y la b\")\n",
        "print(\"Hay que interpretar P = 0,004. Esta métrica lo que nos viene a decir es que el escenario en que no etuviéramos en lo cierto rechazando la hipótesis nula es del 0,004.\")\n",
        "print(\"Es decir, que es extraordinariamente raro que en realidad las dietas sean equivalentes y las diferencias en los datos se hayan debido a variaciones aleatorias\")"
      ]
    },
    {
      "cell_type": "code",
      "source": [
        "#Ej 2\n",
        "#Lo que hace el test Anova es medir la varianza entre las medias de los grupos y\n",
        "# compararla con la varianza dentro de los grupos. Es decir, medir si los grupos\n",
        "# son más distintos entre sí de lo que lo son las personas (elementos) dentro de cada grupo\n",
        "\n",
        "import scipy.stats as stats\n",
        "\n",
        "fertilizante_a = [20, 21, 20, 19, 20]\n",
        "fertilizante_b = [22, 21, 23, 22, 21]\n",
        "fertilizante_c = [24, 23, 22, 23, 24]\n",
        "\n",
        "anova, p = stats.f_oneway(fertilizante_a, fertilizante_b, fertilizante_c)\n",
        "\n",
        "\n",
        "print(f\"Test anova: {anova}\")\n",
        "print(f\"P es {p}\")\n",
        "print(\"Dado que el valor de F (test anova) es alto y que el de p es muy bajo, podemos \\n concluir que hay una diferencia significativa entre los resultados de cada fertilizante. \\n Es decir, que hay algunos claramente mejores que otros\")\n",
        "print(\"Una vez que sabemos que las diferencias entre los fertilizantes son signicicativas y \\n que no se deben a fluctuaciones aleatorias, es fácil concluir que el mejor es el c, \\n ya que es el que tiene mejor media\")"
      ],
      "metadata": {
        "colab": {
          "base_uri": "https://localhost:8080/"
        },
        "id": "bVSmlVaAQVfh",
        "outputId": "8bf7931f-47f8-4db8-dd8b-424fa1950a58"
      },
      "execution_count": 5,
      "outputs": [
        {
          "output_type": "stream",
          "name": "stdout",
          "text": [
            "Test anova: 20.315789473684188\n",
            "P es 0.00014047824793190475\n",
            "Dado que el valor de F (test anova) es alto y que el de p es muy bajo, podemos \n",
            " concluir que hay una diferencia significativa entre los resultados de cada fertilizante. \n",
            " Es decir, que hay algunos claramente mejores que otros\n",
            "Una vez que sabemos que las diferencias entre los fertilizantes son signicicativas y \n",
            " que no se deben a fluctuaciones aleatorias, es fácil concluir que el mejor es el c, \n",
            " ya que es el que tiene mejor media\n"
          ]
        }
      ]
    }
  ]
}